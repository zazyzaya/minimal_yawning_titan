{
 "cells": [
  {
   "cell_type": "code",
   "execution_count": 12,
   "metadata": {},
   "outputs": [],
   "source": [
    "import torch\n",
    "import pandas as pd \n",
    "\n",
    "import json \n",
    "from math import sqrt"
   ]
  },
  {
   "cell_type": "code",
   "execution_count": 13,
   "metadata": {},
   "outputs": [],
   "source": [
    "Z_99_PERCENT = 2.576\n",
    "\n",
    "def ci(t): \n",
    "    return (\n",
    "        Z_99_PERCENT * \n",
    "        (t.std() / sqrt(t.size(0)))\n",
    "    ).item()\n",
    "\n",
    "def to_dict(t):\n",
    "    t = t.float().sort().values\n",
    "    quartile = t.size(0) // 4\n",
    "    trunc = t[quartile:-quartile]\n",
    "    trunc_mean = trunc.mean().item()\n",
    "    ci_range = ci(trunc)\n",
    "\n",
    "    return {\n",
    "        'mean': t.mean().item(),\n",
    "        'std': t.std().item(),\n",
    "        'max': t.max().item(),\n",
    "        'min': t.min().item(),\n",
    "        'trunc-mean': trunc_mean,\n",
    "        'CI-low': trunc_mean - ci_range,\n",
    "        'CI-high': trunc_mean + ci_range\n",
    "    }\n",
    "\n",
    "def get_results(s):\n",
    "    data = torch.load(f'../results/{s}_eval.pt')\n",
    "    lens = data['lens']; rews = data['rews']\n",
    "\n",
    "    return {'rewards': to_dict(rews), 'episode lens': to_dict(lens)}\n"
   ]
  },
  {
   "cell_type": "code",
   "execution_count": 14,
   "metadata": {},
   "outputs": [
    {
     "name": "stdout",
     "output_type": "stream",
     "text": [
      "{\n",
      " \"rewards\": {\n",
      "  \"mean\": 598.9155883789062,\n",
      "  \"std\": 0.10591790080070496,\n",
      "  \"max\": 599.0,\n",
      "  \"min\": 598.4000244140625,\n",
      "  \"trunc-mean\": 598.9412231445312,\n",
      "  \"CI-low\": 598.9331901511177,\n",
      "  \"CI-high\": 598.9492561379448\n",
      " },\n",
      " \"episode lens\": {\n",
      "  \"mean\": 500.0,\n",
      "  \"std\": 0.0,\n",
      "  \"max\": 500.0,\n",
      "  \"min\": 500.0,\n",
      "  \"trunc-mean\": 500.0,\n",
      "  \"CI-low\": 500.0,\n",
      "  \"CI-high\": 500.0\n",
      " }\n",
      "}\n"
     ]
    }
   ],
   "source": [
    "print(json.dumps(get_results('heuristic'), indent=1))"
   ]
  },
  {
   "cell_type": "code",
   "execution_count": 15,
   "metadata": {},
   "outputs": [
    {
     "name": "stdout",
     "output_type": "stream",
     "text": [
      "{\n",
      " \"rewards\": {\n",
      "  \"mean\": 253.21034240722656,\n",
      "  \"std\": 142.45635986328125,\n",
      "  \"max\": 600.0,\n",
      "  \"min\": 153.999755859375,\n",
      "  \"trunc-mean\": 186.4692840576172,\n",
      "  \"CI-low\": 179.90923404693604,\n",
      "  \"CI-high\": 193.02933406829834\n",
      " },\n",
      " \"episode lens\": {\n",
      "  \"mean\": 501.0,\n",
      "  \"std\": 0.0,\n",
      "  \"max\": 501.0,\n",
      "  \"min\": 501.0,\n",
      "  \"trunc-mean\": 501.0,\n",
      "  \"CI-low\": 501.0,\n",
      "  \"CI-high\": 501.0\n",
      " }\n",
      "}\n"
     ]
    }
   ],
   "source": [
    "print(json.dumps(get_results('10N_init'), indent=1))"
   ]
  }
 ],
 "metadata": {
  "kernelspec": {
   "display_name": "castle",
   "language": "python",
   "name": "python3"
  },
  "language_info": {
   "codemirror_mode": {
    "name": "ipython",
    "version": 3
   },
   "file_extension": ".py",
   "mimetype": "text/x-python",
   "name": "python",
   "nbconvert_exporter": "python",
   "pygments_lexer": "ipython3",
   "version": "3.11.5"
  }
 },
 "nbformat": 4,
 "nbformat_minor": 2
}
